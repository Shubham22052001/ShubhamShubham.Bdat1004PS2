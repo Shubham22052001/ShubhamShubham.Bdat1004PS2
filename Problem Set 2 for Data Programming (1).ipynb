{
 "cells": [
  {
   "cell_type": "markdown",
   "id": "4679f52b",
   "metadata": {},
   "source": [
    "### Question 1"
   ]
  },
  {
   "cell_type": "markdown",
   "id": "0287de50",
   "metadata": {},
   "source": [
    "Consider the following Python module:\n",
    "a = 0\n",
    "def b():\n",
    " global a\n",
    " a = c(a)\n",
    "def c(a):\n",
    " return a + 2\n",
    "After importing the module into the interpreter, you execute:\n",
    "// >>> b()\n",
    "// >>> b()\n",
    "// >>> b()\n",
    "// >>> a\n",
    "?\n",
    "What value is displayed when the last expression (a) is evaluated? Explain your \n",
    "answer by indicating what happens in every executed statement.\n"
   ]
  },
  {
   "cell_type": "markdown",
   "id": "f48f066c",
   "metadata": {},
   "source": [
    "The last expression (a) will display the value 6.\n",
    "\n",
    "The variable a is firstly equal to 0.\n",
    "Then, function b() is defined.\n",
    "After that function c(a) is defined.\n",
    "Function b() is called which sets the global variable a to the result of calling c(a). The function c(a) returns 0 + 2, which is 2\n",
    "Then, function b() is called again which sets the global variable a to the result of calling c(a). The function c(a) returns 2 + 2, which is 4.\n",
    "At last function b() is called again which sets the global variable a to result of calling c(a).The function c(a) returns 4 + 2, which is 6.\n",
    "The value of the global variable a is printed which is 6.\n"
   ]
  },
  {
   "cell_type": "markdown",
   "id": "dabace4b",
   "metadata": {},
   "source": [
    "## Question 2"
   ]
  },
  {
   "cell_type": "markdown",
   "id": "d3145c0a",
   "metadata": {},
   "source": [
    "Function fileLength(), given to you, takes the name of a file as input and returns \n",
    "the length of the file:\n",
    ">>> fileLength('midterm.py')\n",
    "284\n",
    ">>> fileLength('idterm.py')\n",
    "Traceback (most recent call last):\n",
    "File \"<pyshell#34>\", line 1, in <module>\n",
    " fileLength('idterm.py')\n",
    "File \"/Users/me/midterm.py\", line 3, in fileLength\n",
    " infile = open(filename)\n",
    "FileNotFoundError: [Errno 2] No such file or directory: \n",
    "'idterm.py'\n",
    "As shown above, if the file cannot be found by the interpreter or if it cannot be read \n",
    "as a text file, an exception will be raised. Modify function fileLength() so that a \n",
    "friendly message is printed instead:\n",
    ">>> fileLength('midterm.py')\n",
    "358\n",
    ">>> fileLength('idterm.py')\n",
    "File idterm.py not found."
   ]
  },
  {
   "cell_type": "code",
   "execution_count": 4,
   "id": "1d7e597e",
   "metadata": {},
   "outputs": [
    {
     "name": "stdout",
     "output_type": "stream",
     "text": [
      "File midterm.py not found.\n",
      "File idterm.py not found.\n"
     ]
    }
   ],
   "source": [
    "def file_length(file_name):\n",
    "    try:\n",
    "        with open(file_name) as file:\n",
    "            contents = file.read()\n",
    "            print(len(contents))\n",
    "    except FileNotFoundError:\n",
    "        print(f\"File {file_name} not found.\")\n",
    "    except IOError:\n",
    "        print(f\"Error reading file {file_name}.\")\n",
    "\n",
    "file_length('midterm.py')\n",
    "file_length('idterm.py')"
   ]
  },
  {
   "cell_type": "markdown",
   "id": "c3544731",
   "metadata": {},
   "source": [
    "## Question 3"
   ]
  },
  {
   "cell_type": "code",
   "execution_count": 5,
   "id": "62b19df0",
   "metadata": {},
   "outputs": [
    {
     "name": "stdout",
     "output_type": "stream",
     "text": [
      "I am a Kangaroo located at coordinates (0, 0)\n",
      "['doll', 'firetruck', 'kitten']\n",
      "I am a Kangaroo located at coordinates (3, 0)\n"
     ]
    }
   ],
   "source": [
    "class Marsupial:\n",
    "    def __init__(self):\n",
    "        self.pouch = []  # initialize an empty list for the pouch\n",
    "    def put_in_pouch(self, item):\n",
    "        self.pouch.append(item)  # append an item to the pouch list\n",
    "    def pouch_contents(self):\n",
    "        return self.pouch  # return the pouch list\n",
    "\n",
    "class Kangaroo(Marsupial):\n",
    "    def __init__(self, x=0, y=0):\n",
    "        super().__init__()  # call the constructor of the superclass\n",
    "        self.x = x  # initialize the x coordinate\n",
    "        self.y = y  # initialize the y coordinate\n",
    "    def jump(self, dx, dy):\n",
    "        self.x += dx  # move along the x-axis by dx units\n",
    "        self.y += dy  # move along the y-axis by dy units\n",
    "    def __str__(self):\n",
    "        return \"I am a Kangaroo located at coordinates ({}, {})\".format(self.x, self.y)  # return a string that describes the object\n",
    "\n",
    "k = Kangaroo(0, 0)  # create an instance of the class Kangaroo with coordinates (0, 0)\n",
    "print(k)\n",
    "k.put_in_pouch('doll')  # put three items in its pouch using the method inherited from the superclass\n",
    "k.put_in_pouch('firetruck')\n",
    "k.put_in_pouch('kitten')\n",
    "print(k.pouch_contents())\n",
    "k.jump(1, 0)  # call the method jump() three times with arguments (1, 0) each time\n",
    "k.jump(1, 0)\n",
    "k.jump(1, 0)\n",
    "print(k)"
   ]
  },
  {
   "cell_type": "markdown",
   "id": "5cba9674",
   "metadata": {},
   "source": [
    "## Question 4"
   ]
  },
  {
   "cell_type": "code",
   "execution_count": 1,
   "id": "148b5efc",
   "metadata": {},
   "outputs": [
    {
     "name": "stdout",
     "output_type": "stream",
     "text": [
      "1\n",
      "16\n",
      "8\n",
      "4\n",
      "2\n",
      "1\n"
     ]
    }
   ],
   "source": [
    "def collatz(x):\n",
    "    print(x)  # print the current number\n",
    "    if x == 1:  # base case\n",
    "        return\n",
    "    elif x % 2 == 0:  # if x is even\n",
    "        collatz(x // 2)  # call the function recursively with x/2\n",
    "    else:  # if x is odd\n",
    "        collatz(3 * x + 1)  # call the function recursively with 3x + 1\n",
    "\n",
    "collatz(1)\n",
    "collatz(16)"
   ]
  },
  {
   "cell_type": "markdown",
   "id": "be19e307",
   "metadata": {},
   "source": [
    "## Question 5"
   ]
  },
  {
   "cell_type": "code",
   "execution_count": 7,
   "id": "b8af8b74",
   "metadata": {},
   "outputs": [
    {
     "name": "stdout",
     "output_type": "stream",
     "text": [
      "0\n",
      "1\n",
      "11\n",
      "1001\n"
     ]
    }
   ],
   "source": [
    "def binary(n):\n",
    "    if n == 0:\n",
    "        return '0'  # base case\n",
    "    elif n == 1:\n",
    "        return '1'  # base case\n",
    "    else:\n",
    "        return binary(n // 2) + str(n % 2)  # recursive call\n",
    "\n",
    "print(binary(0))\n",
    "print(binary(1))\n",
    "print(binary(3))\n",
    "print(binary(9))"
   ]
  },
  {
   "cell_type": "markdown",
   "id": "4905906a",
   "metadata": {},
   "source": [
    "## Question 8"
   ]
  },
  {
   "cell_type": "code",
   "execution_count": null,
   "id": "52774f0c",
   "metadata": {},
   "outputs": [],
   "source": [
    "dp.execute(\"SELECT Temperature FROM text\")\n",
    "assignment = dp.fetchall()\n",
    "for x in assignment:\n",
    "    print(x)"
   ]
  },
  {
   "cell_type": "code",
   "execution_count": 19,
   "id": "87daad46",
   "metadata": {},
   "outputs": [
    {
     "name": "stdout",
     "output_type": "stream",
     "text": [
      "(24.8,)\n",
      "(28.4,)\n",
      "(27.9,)\n",
      "(27.6,)\n",
      "(4.2,)\n",
      "(8.3,)\n",
      "(15.7,)\n",
      "(10.4,)\n",
      "(13.6,)\n",
      "(20.7,)\n",
      "(27.7,)\n",
      "(22.2,)\n"
     ]
    }
   ],
   "source": [
    "import sqlite3\n",
    "\n",
    "program = sqlite3.connect('tabl_cities112.db')\n",
    "dp = program.cursor()\n",
    "dp.execute(\"CREATE TABLE text (City text, Country text, Season text, Temperature float, Rainfall float)\")\n",
    "\n",
    "rows = [\n",
    "    ('Mumbai', 'India', 'Winter', 24.8, 5.9),\n",
    "    ('Mumbai', 'India', 'Spring', 28.4, 16.2),\n",
    "    ('Mumbai', 'India', 'Summer', 27.9, 1549.4),\n",
    "    ('Mumbai', 'India', 'Fall', 27.6, 346.0),\n",
    "    ('London', 'United Kingdom', 'Winter', 4.2, 207.7),\n",
    "    ('London', 'United Kingdom', 'Spring', 8.3, 169.6),\n",
    "    ('London', 'United Kingdom', 'Summer', 15.7, 157.0),\n",
    "    ('London', 'United Kingdom', 'Fall', 10.4, 218.5),\n",
    "    ('Cairo', 'Egypt', 'Winter', 13.6, 16.5),\n",
    "    ('Cairo', 'Egypt', 'Spring', 20.7, 6.5),\n",
    "    ('Cairo', 'Egypt', 'Summer', 27.7, 0.1),\n",
    "    ('Cairo', 'Egypt', 'Fall', 22.2, 4.5)\n",
    "]\n",
    "\n",
    "for row in rows:\n",
    "    dp.execute(\"INSERT INTO text VALUES (?, ?, ?, ?, ?)\", row)\n",
    "\n",
    "program.commit()\n",
    "\n",
    "dp.execute(\"SELECT Temperature FROM text\")\n",
    "assignment = dp.fetchall()\n",
    "\n",
    "for x in assignment:\n",
    "    print(x)\n"
   ]
  },
  {
   "cell_type": "code",
   "execution_count": 20,
   "id": "98b78ab7",
   "metadata": {},
   "outputs": [
    {
     "name": "stdout",
     "output_type": "stream",
     "text": [
      "('Mumbai',)\n",
      "('London',)\n",
      "('Cairo',)\n"
     ]
    }
   ],
   "source": [
    "dp.execute(\"SELECT DISTINCT City FROM text\")\n",
    "assignment = dp.fetchall()\n",
    "\n",
    "for x in assignment:\n",
    "    print(x)"
   ]
  },
  {
   "cell_type": "code",
   "execution_count": 21,
   "id": "1eb5004e",
   "metadata": {},
   "outputs": [
    {
     "name": "stdout",
     "output_type": "stream",
     "text": [
      "('Mumbai', 'India', 'Winter', 24.8, 5.9)\n",
      "('Mumbai', 'India', 'Spring', 28.4, 16.2)\n",
      "('Mumbai', 'India', 'Summer', 27.9, 1549.4)\n",
      "('Mumbai', 'India', 'Fall', 27.6, 346.0)\n"
     ]
    }
   ],
   "source": [
    "dp.execute(\"SELECT * FROM text WHERE Country = 'India'\")\n",
    "assignment = dp.fetchall()\n",
    "\n",
    "for x in assignment:\n",
    "    print(x)"
   ]
  },
  {
   "cell_type": "code",
   "execution_count": 22,
   "id": "2bffe14e",
   "metadata": {},
   "outputs": [
    {
     "name": "stdout",
     "output_type": "stream",
     "text": [
      "('Mumbai', 'India', 'Fall', 27.6, 346.0)\n",
      "('London', 'United Kingdom', 'Fall', 10.4, 218.5)\n",
      "('Cairo', 'Egypt', 'Fall', 22.2, 4.5)\n"
     ]
    }
   ],
   "source": [
    "dp.execute(\"SELECT * FROM text WHERE Season = 'Fall'\")\n",
    "assignment = dp.fetchall()\n",
    "\n",
    "for x in assignment:\n",
    "    print(x)"
   ]
  },
  {
   "cell_type": "code",
   "execution_count": 25,
   "id": "d7b765f9",
   "metadata": {},
   "outputs": [
    {
     "name": "stdout",
     "output_type": "stream",
     "text": [
      "('London', 'United Kingdom', 'Fall')\n",
      "('London', 'United Kingdom', 'Winter')\n",
      "('Mumbai', 'India', 'Fall')\n"
     ]
    }
   ],
   "source": [
    "dp.execute(\"SELECT City, Country, Season FROM text GROUP BY City, Country, Season HAVING AVG(Rainfall) BETWEEN 200 AND 400;\")\n",
    "assignment = dp.fetchall()\n",
    "\n",
    "for x in assignment:\n",
    "    print(x)"
   ]
  },
  {
   "cell_type": "code",
   "execution_count": 26,
   "id": "e7b7ef23",
   "metadata": {},
   "outputs": [
    {
     "name": "stdout",
     "output_type": "stream",
     "text": [
      "('Cairo', 'Egypt')\n",
      "('Mumbai', 'India')\n"
     ]
    }
   ],
   "source": [
    "dp.execute(\"SELECT City, Country FROM text WHERE Season = 'Fall' GROUP BY City, Country HAVING AVG(Temperature) > 20 ORDER BY AVG(Temperature) ASC;\")\n",
    "assignment = dp.fetchall()\n",
    "\n",
    "for x in assignment:\n",
    "    print(x)"
   ]
  },
  {
   "cell_type": "code",
   "execution_count": 27,
   "id": "55b1cba3",
   "metadata": {},
   "outputs": [
    {
     "name": "stdout",
     "output_type": "stream",
     "text": [
      "(27.6,)\n"
     ]
    }
   ],
   "source": [
    "dp.execute(\"SELECT SUM(Rainfall) AS Total_Rainfall FROM text WHERE City = 'Cairo';\")\n",
    "assignment = dp.fetchall()\n",
    "\n",
    "for x in assignment:\n",
    "    print(x)"
   ]
  },
  {
   "cell_type": "code",
   "execution_count": 28,
   "id": "1d4dcb19",
   "metadata": {},
   "outputs": [
    {
     "name": "stdout",
     "output_type": "stream",
     "text": [
      "('Fall', 569.0)\n",
      "('Spring', 192.29999999999998)\n",
      "('Summer', 1706.5)\n",
      "('Winter', 230.1)\n"
     ]
    }
   ],
   "source": [
    "dp.execute(\"SELECT Season, SUM(Rainfall) AS Total_Rainfall FROM text GROUP BY Season;\")\n",
    "assignment = dp.fetchall()\n",
    "\n",
    "for x in assignment:\n",
    "    print(x)"
   ]
  },
  {
   "cell_type": "markdown",
   "id": "605244a6",
   "metadata": {},
   "source": [
    "## Question 9"
   ]
  },
  {
   "cell_type": "code",
   "execution_count": 5,
   "id": "18ebbbc5",
   "metadata": {},
   "outputs": [
    {
     "name": "stdout",
     "output_type": "stream",
     "text": [
      "1) ['THE', 'QUICK', 'BROWN', 'FOX', 'JUMPS', 'OVER', 'THE', 'LAZY', 'DOG']\n",
      "2) ['the', 'quick', 'brown', 'fox', 'jumps', 'over', 'the', 'lazy', 'dog']\n",
      "3) [3, 5, 5, 3, 5, 4, 3, 4, 3]\n",
      "4) [['THE', 'the', 3], ['QUICK', 'quick', 5], ['BROWN', 'brown', 5], ['FOX', 'fox', 3], ['JUMPS', 'jumps', 5], ['OVER', 'over', 4], ['THE', 'the', 3], ['LAZY', 'lazy', 4], ['DOG', 'dog', 3]]\n",
      "5) ['quick', 'brown', 'jumps', 'over', 'lazy']\n"
     ]
    }
   ],
   "source": [
    "words = ['The', 'quick', 'brown', 'fox', 'jumps', 'over', 'the', 'lazy', 'dog']\n",
    "uppercase_words=[]\n",
    "lowercase_words = []\n",
    "word_lengths = []\n",
    "word_info = []\n",
    "four_or_more_chars = []\n",
    "\n",
    "## (a) ['THE', 'QUICK', 'BROWN', 'FOX', 'JUMPS', 'OVER', 'THE', 'LAZY', 'DOG']:\n",
    "\n",
    "uppercase_words = [word.upper() for word in words]\n",
    "\n",
    "## (b) ['the', 'quick', 'brown', 'fox', 'jumps', 'over', 'the', 'lazy', 'dog']:\n",
    "\n",
    "lowercase_words = [word.lower() for word in words]\n",
    "\n",
    "## (c) [3, 5, 5, 3, 5, 4, 3, 4, 3]:\n",
    "\n",
    "word_lengths = [len(word) for word in words]\n",
    "\n",
    "## (d) [['THE', 'the', 3], ['QUICK', 'quick', 5], ['BROWN', 'brown', 5], ['FOX', 'fox', 3], ['JUMPS', 'jumps', 5], ['OVER', 'over', 4], ['THE', 'the', 3], ['LAZY', 'lazy', 4], ['DOG', 'dog', 3]]:\n",
    "\n",
    "word_info = [[word.upper(), word.lower(), len(word)] for word in words]\n",
    "\n",
    "## (e) ['The', 'quick', 'brown', 'fox', 'jumps', 'over', 'the', 'lazy', 'dog']:\n",
    "\n",
    "four_or_more_chars = [word for word in words if len(word) >= 4]\n",
    "print(\"1)\",uppercase_words)\n",
    "print(\"2)\",lowercase_words)\n",
    "print(\"3)\",word_lengths )\n",
    "print(\"4)\",word_info)\n",
    "print(\"5)\",four_or_more_chars)\n",
    "\n",
    "\n"
   ]
  },
  {
   "cell_type": "code",
   "execution_count": null,
   "id": "b8c15632",
   "metadata": {},
   "outputs": [],
   "source": []
  },
  {
   "cell_type": "code",
   "execution_count": null,
   "id": "7f1e712f",
   "metadata": {},
   "outputs": [],
   "source": []
  },
  {
   "cell_type": "code",
   "execution_count": null,
   "id": "ea2e0368",
   "metadata": {},
   "outputs": [],
   "source": []
  }
 ],
 "metadata": {
  "kernelspec": {
   "display_name": "Python 3 (ipykernel)",
   "language": "python",
   "name": "python3"
  },
  "language_info": {
   "codemirror_mode": {
    "name": "ipython",
    "version": 3
   },
   "file_extension": ".py",
   "mimetype": "text/x-python",
   "name": "python",
   "nbconvert_exporter": "python",
   "pygments_lexer": "ipython3",
   "version": "3.10.9"
  }
 },
 "nbformat": 4,
 "nbformat_minor": 5
}
